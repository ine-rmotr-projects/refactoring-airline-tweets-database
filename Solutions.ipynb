{
 "cells": [
  {
   "cell_type": "markdown",
   "metadata": {},
   "source": [
    "![ine-divider](https://user-images.githubusercontent.com/7065401/92672068-398e8080-f2ee-11ea-82d6-ad53f7feb5c0.png)\n",
    "<hr>\n",
    "\n",
    "# PostgreSQL for Python Developers\n",
    "\n",
    "## Refactoring airline tweets database\n",
    "\n",
    "In this project, we will use the PostgreSQL data definition language to optimize the airline tweets that we moved into PostgreSQL in an earlier project.\n",
    "\n",
    "You will need access to a PostgreSQL installation where you have superuser permissions. If you do not have such access elsewhere, installing to your personal workstation is a good idea.  Alternately, you might wish to use a Docker container for a self-contained installation.  See `https://hub.docker.com/_/postgres` for details on that option.  Unless you have a specific need to work with an existing installation, choosing a PostgreSQL version of 12 or higher is best.\n",
    "\n",
    "![orange-divider](https://user-images.githubusercontent.com/7065401/92672455-187a5f80-f2ef-11ea-890c-40be9474f7b7.png)"
   ]
  },
  {
   "cell_type": "markdown",
   "metadata": {},
   "source": [
    "## Part 1\n",
    "\n",
    "**Refactoring a database (enumerations)**\n",
    "\n",
    "The table describing airline tweets was created in a prior project.  Your solution may not be identical to the sample solution, but most of these issues are likely to apply.\n",
    "\n",
    "A number of columns were probably created as CHAR or VARCHAR field, but have only a small number of distinct values.  Those would be more efficiently and descriptively stored as enumerations.  Enumerations are discussed in somewhat more detail in the next lesson, but in brief, you can create one within a particular database using code similar to:\n",
    "\n",
    "```python\n",
    "cur.execute(\"CREATE TYPE mood AS ENUM ('sad', 'ok', 'happy');\")\n",
    "```\n",
    "\n",
    "Such an enumeration would be useful, for example, for `airline_sentiment`:\n",
    "\n",
    "```sql\n",
    "ine=# SELECT DISTINCT airline_sentiment FROM tweets;\n",
    " airline_sentiment\n",
    "-------------------\n",
    " negative\n",
    " positive\n",
    " neutral\n",
    "(3 rows)\n",
    "```"
   ]
  },
  {
   "cell_type": "markdown",
   "metadata": {},
   "source": [
    "Create enumerated types for every column where it is relevant, and update the table `tweets` appropriately."
   ]
  },
  {
   "cell_type": "markdown",
   "metadata": {},
   "source": [
    "**Solution**"
   ]
  },
  {
   "cell_type": "code",
   "execution_count": 1,
   "metadata": {},
   "outputs": [],
   "source": [
    "import psycopg2\n",
    "user, pwd = 'ine_student', 'ine-password'\n",
    "host, port = 'localhost', '5432'\n",
    "conn = psycopg2.connect(database='ine', host=host, user=user, password=pwd, port=port)\n",
    "cur = conn.cursor()"
   ]
  },
  {
   "cell_type": "markdown",
   "metadata": {},
   "source": [
    "If you don't have the database already created, create it:"
   ]
  },
  {
   "cell_type": "code",
   "execution_count": null,
   "metadata": {},
   "outputs": [],
   "source": [
    "# create PostgreSQL table\n",
    "sql_create_tweets = '''\n",
    "CREATE TABLE IF NOT EXISTS Tweets (\n",
    "    tweet_id DECIMAL(18) PRIMARY KEY,\n",
    "    airline_sentiment TEXT,\n",
    "    airline_sentiment_confidence REAL,\n",
    "    negativereason TEXT,\n",
    "    negativereason_confidence REAL,\n",
    "    airline TEXT,\n",
    "    airline_sentiment_gold TEXT,\n",
    "    name TEXT,\n",
    "    negativereason_gold TEXT,\n",
    "    retweet_count INT,\n",
    "    text TEXT,\n",
    "    tweet_coord TEXT,\n",
    "    tweet_created TIMESTAMP WITH TIME ZONE,\n",
    "    tweet_location TEXT,\n",
    "    user_timezone TEXT\n",
    "    );\n",
    "'''\n",
    "cur_dest.execute('DROP TABLE Tweets')\n",
    "cur_dest.execute(sql_create_tweets)\n",
    "con_dest.commit()"
   ]
  },
  {
   "cell_type": "code",
   "execution_count": null,
   "metadata": {},
   "outputs": [],
   "source": [
    "con_src = sqlite3.connect('data/Airline-Tweets.sqlite') \n",
    "cur_src = con_src.cursor()\n",
    "cur_src.execute(\"SELECT * FROM Tweets\")"
   ]
  },
  {
   "cell_type": "code",
   "execution_count": null,
   "metadata": {},
   "outputs": [],
   "source": [
    "sql_insert = \"\"\"\n",
    "INSERT INTO Tweets \n",
    "VALUES (%s, %s, %s, %s, %s, %s, %s, %s, %s, %s, %s, %s, %s, %s, %s)\n",
    "\"\"\"\n",
    "for src_row in cur_src:\n",
    "    row = tuple(data or None for data in src_row)\n",
    "    cur_dest.execute(sql_insert, row)\n",
    "    \n",
    "con_dest.commit()"
   ]
  },
  {
   "cell_type": "markdown",
   "metadata": {},
   "source": [
    "As a first step, we should find out all columns that have a small number of distinct values.\n"
   ]
  },
  {
   "cell_type": "code",
   "execution_count": 2,
   "metadata": {},
   "outputs": [],
   "source": [
    "text_cols = []\n",
    "cur.execute(\"SELECT * FROM tweets LIMIT 1;\")\n",
    "for col in cur.description:\n",
    "    if col.type_code == 25:   # TEXT, adjust if your schema differs\n",
    "        text_cols.append(col.name)"
   ]
  },
  {
   "cell_type": "code",
   "execution_count": 3,
   "metadata": {},
   "outputs": [
    {
     "name": "stdout",
     "output_type": "stream",
     "text": [
      "airline_sentiment has 3 distinct values\n",
      "negativereason has 11 distinct values\n",
      "airline has 6 distinct values\n",
      "airline_sentiment_gold has 4 distinct values\n",
      "name has 5621 distinct values\n",
      "negativereason_gold has 14 distinct values\n",
      "text has 10413 distinct values\n",
      "tweet_coord has 614 distinct values\n",
      "tweet_location has 2227 distinct values\n",
      "user_timezone has 74 distinct values\n"
     ]
    }
   ],
   "source": [
    "categories = dict()\n",
    "for col in text_cols:\n",
    "    cur.execute(f\"SELECT count(DISTINCT {col}) FROM tweets;\")\n",
    "    num = cur.fetchone()[0]\n",
    "    print(f\"{col} has {num} distinct values\")\n",
    "    if num < 10:\n",
    "        cur.execute(f\"SELECT DISTINCT {col} FROM tweets;\")\n",
    "        categories[col] = [t[0] for t in cur]"
   ]
  },
  {
   "cell_type": "code",
   "execution_count": 4,
   "metadata": {},
   "outputs": [
    {
     "data": {
      "text/plain": [
       "{'airline_sentiment': ['negative', 'positive', 'neutral'],\n",
       " 'airline': ['Virgin America',\n",
       "  'Southwest',\n",
       "  'Delta',\n",
       "  'American',\n",
       "  'US Airways',\n",
       "  'United'],\n",
       " 'airline_sentiment_gold': ['negative', 'positive', '', 'neutral']}"
      ]
     },
     "execution_count": 4,
     "metadata": {},
     "output_type": "execute_result"
    }
   ],
   "source": [
    "categories"
   ]
  },
  {
   "cell_type": "markdown",
   "metadata": {},
   "source": [
    "My initial conversion had an empty string for sentiment, which feels like a data problem. I tranformed it to a NULL.  Your initial conversion may not have had this problem."
   ]
  },
  {
   "cell_type": "code",
   "execution_count": 5,
   "metadata": {},
   "outputs": [
    {
     "data": {
      "text/plain": [
       "[(None,), ('negative',), ('positive',), ('neutral',)]"
      ]
     },
     "execution_count": 5,
     "metadata": {},
     "output_type": "execute_result"
    }
   ],
   "source": [
    "cur.execute(\"UPDATE tweets SET airline_sentiment_gold = NULL WHERE airline_sentiment_gold = '';\")\n",
    "cur.execute(\"SELECT DISTINCT airline_sentiment_gold FROM tweets;\")\n",
    "cur.fetchall()"
   ]
  },
  {
   "cell_type": "code",
   "execution_count": 6,
   "metadata": {},
   "outputs": [],
   "source": [
    "sql_sentiment = \"CREATE TYPE sentiment AS ENUM ('negative', 'positive', 'neutral');\"\n",
    "sql_airline = \"\"\"\n",
    "CREATE TYPE airline \n",
    "AS ENUM ('Virgin America', 'Southwest',  'Delta', 'American',  'US Airways', 'United');\n",
    "\"\"\"\n",
    "cur.execute(sql_sentiment)\n",
    "cur.execute(sql_airline)"
   ]
  },
  {
   "cell_type": "code",
   "execution_count": 7,
   "metadata": {},
   "outputs": [],
   "source": [
    "sql_enum_sentiment = \"\"\"\n",
    "ALTER TABLE tweets \n",
    "ALTER COLUMN airline_sentiment \n",
    "TYPE sentiment\n",
    "USING airline_sentiment::sentiment;\n",
    "\"\"\"\n",
    "sql_enum_sentiment_gold = \"\"\"\n",
    "ALTER TABLE tweets \n",
    "ALTER COLUMN airline_sentiment_gold\n",
    "TYPE sentiment\n",
    "USING airline_sentiment_gold::sentiment;\n",
    "\"\"\"\n",
    "sql_airlines = \"\"\"\n",
    "ALTER TABLE tweets\n",
    "ALTER COLUMN airline\n",
    "TYPE airline\n",
    "USING airline::airline;\n",
    "\"\"\"\n",
    "cur.execute(sql_enum_sentiment)\n",
    "cur.execute(sql_enum_sentiment_gold)\n",
    "cur.execute(sql_airlines)"
   ]
  },
  {
   "cell_type": "code",
   "execution_count": 8,
   "metadata": {},
   "outputs": [
    {
     "data": {
      "text/plain": [
       "(Column(name='tweet_id', type_code=1700),\n",
       " Column(name='airline_sentiment', type_code=36580),\n",
       " Column(name='airline_sentiment_confidence', type_code=700),\n",
       " Column(name='negativereason', type_code=25),\n",
       " Column(name='negativereason_confidence', type_code=700),\n",
       " Column(name='airline', type_code=36588),\n",
       " Column(name='airline_sentiment_gold', type_code=36580),\n",
       " Column(name='name', type_code=25),\n",
       " Column(name='negativereason_gold', type_code=25),\n",
       " Column(name='retweet_count', type_code=23),\n",
       " Column(name='text', type_code=25),\n",
       " Column(name='tweet_coord', type_code=25),\n",
       " Column(name='tweet_created', type_code=1184),\n",
       " Column(name='tweet_location', type_code=25),\n",
       " Column(name='user_timezone', type_code=25))"
      ]
     },
     "execution_count": 8,
     "metadata": {},
     "output_type": "execute_result"
    }
   ],
   "source": [
    "cur.execute(\"SELECT * FROM tweets LIMIT 1;\")\n",
    "cur.description"
   ]
  },
  {
   "cell_type": "code",
   "execution_count": 9,
   "metadata": {},
   "outputs": [],
   "source": [
    "# Normally would commit here, for project I restore the original state\n",
    "conn.rollback()"
   ]
  },
  {
   "cell_type": "markdown",
   "metadata": {},
   "source": [
    "![orange-divider](https://user-images.githubusercontent.com/7065401/92672455-187a5f80-f2ef-11ea-890c-40be9474f7b7.png)\n",
    "\n",
    "## Part 2\n",
    "\n",
    "**Adding foreign keys**\n",
    "\n",
    "The columns `user_timezone` and `airline` feel like entities about which we would like to be able to store additional information.  For example, what is the UTC offset and daylight savings change schedule at a given timezone?  What is the contact information for a given airline, and what airports do they service?\n",
    "\n",
    "The this task you need to complete two parts.  First you should create tables `timezones` and `airlines`, and populate them with the values currently existing for the foreign key column.  In each case, simply add a second text column called `description` (although more specific fields would clearly be needed for a production use).\n",
    "\n",
    "Second, create a foreign key constraint between the `tweets` table and these new tables that provide information about the entitities."
   ]
  },
  {
   "cell_type": "markdown",
   "metadata": {},
   "source": [
    "**Solution**"
   ]
  },
  {
   "cell_type": "code",
   "execution_count": 10,
   "metadata": {},
   "outputs": [],
   "source": [
    "sql_airlines = \"\"\"\n",
    "CREATE TABLE airlines (\n",
    "    airline TEXT PRIMARY KEY,\n",
    "    description TEXT DEFAULT NULL\n",
    "    );\n",
    "\"\"\"\n",
    "sql_timezones = \"\"\"\n",
    "CREATE TABLE timezones (\n",
    "    timezone TEXT PRIMARY KEY,\n",
    "    description TEXT DEFAULT NULL\n",
    "    );\n",
    "\"\"\"\n",
    "cur.execute(sql_airlines)\n",
    "cur.execute(sql_timezones)"
   ]
  },
  {
   "cell_type": "code",
   "execution_count": 11,
   "metadata": {},
   "outputs": [],
   "source": [
    "sql_populate_airlines = \"\"\"\n",
    "INSERT INTO airlines (airline)\n",
    "SELECT DISTINCT airline FROM tweets;\n",
    "\"\"\"\n",
    "sql_populate_timezones = \"\"\"\n",
    "INSERT INTO timezones (timezone)\n",
    "SELECT DISTINCT user_timezone FROM tweets;\n",
    "\"\"\"\n",
    "cur.execute(sql_populate_airlines)\n",
    "cur.execute(sql_populate_timezones)"
   ]
  },
  {
   "cell_type": "markdown",
   "metadata": {},
   "source": [
    "Now we need to add the foreign key."
   ]
  },
  {
   "cell_type": "code",
   "execution_count": 12,
   "metadata": {},
   "outputs": [],
   "source": [
    "sql_airline_constraint = \"\"\"\n",
    "ALTER TABLE tweets\n",
    "ADD FOREIGN KEY (airline)\n",
    "REFERENCES airlines\n",
    "ON DELETE CASCADE;\n",
    "\"\"\"\n",
    "cur.execute(sql_airline_constraint)"
   ]
  },
  {
   "cell_type": "code",
   "execution_count": 13,
   "metadata": {},
   "outputs": [],
   "source": [
    "sql_timezone_constraint = \"\"\"\n",
    "ALTER TABLE tweets\n",
    "ADD FOREIGN KEY (user_timezone)\n",
    "REFERENCES timezones(timezone)\n",
    "ON DELETE SET NULL;\n",
    "\"\"\"\n",
    "cur.execute(sql_timezone_constraint)"
   ]
  },
  {
   "cell_type": "code",
   "execution_count": 14,
   "metadata": {},
   "outputs": [],
   "source": [
    "# Normally would commit here, for project I restore the original state\n",
    "conn.rollback()"
   ]
  },
  {
   "cell_type": "markdown",
   "metadata": {},
   "source": [
    "![orange-divider](https://user-images.githubusercontent.com/7065401/92672455-187a5f80-f2ef-11ea-890c-40be9474f7b7.png)"
   ]
  }
 ],
 "metadata": {
  "kernelspec": {
   "display_name": "Python 3",
   "language": "python",
   "name": "python3"
  },
  "language_info": {
   "codemirror_mode": {
    "name": "ipython",
    "version": 3
   },
   "file_extension": ".py",
   "mimetype": "text/x-python",
   "name": "python",
   "nbconvert_exporter": "python",
   "pygments_lexer": "ipython3",
   "version": "3.8.6"
  }
 },
 "nbformat": 4,
 "nbformat_minor": 4
}
